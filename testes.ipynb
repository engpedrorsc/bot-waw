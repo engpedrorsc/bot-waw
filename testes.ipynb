{
 "metadata": {
  "language_info": {
   "codemirror_mode": {
    "name": "ipython",
    "version": 3
   },
   "file_extension": ".py",
   "mimetype": "text/x-python",
   "name": "python",
   "nbconvert_exporter": "python",
   "pygments_lexer": "ipython3",
   "version": "3.8.7-final"
  },
  "orig_nbformat": 2,
  "kernelspec": {
   "name": "python3",
   "display_name": "Python 3.8.7 64-bit ('bot_waw_env')",
   "metadata": {
    "interpreter": {
     "hash": "7b5cf24a680b4c1d139a139767afd4c3f277b976b7b78b0d6f7a56ff4c200f6c"
    }
   }
  }
 },
 "nbformat": 4,
 "nbformat_minor": 2,
 "cells": [
  {
   "cell_type": "code",
   "execution_count": 7,
   "metadata": {},
   "outputs": [],
   "source": [
    "from datetime import datetime as dt\n",
    "\n",
    "def backup_campaign():\n",
    "    files = ['mensagem', 'telefones_bloqueados', 'telefones_para_envio']\n",
    "    file_extensions = ['.txt', '.txt', '.txt']\n",
    "    for file, file_extension in zip(files, file_extensions):\n",
    "        print(f'src=campaign_folder + os.sep + {file}{file_extension}')\n",
    "        print(f'dst=backup_folder + os.sep + {file}_{dt.now()}{file_extension}')\n"
   ]
  },
  {
   "cell_type": "code",
   "execution_count": 8,
   "metadata": {},
   "outputs": [
    {
     "output_type": "stream",
     "name": "stdout",
     "text": [
      "src=campaign_folder + os.sep + mensagem..txt\ndst=backup_folder + os.sep + mensagem_2021-01-17 00:23:19.205804..txt\nsrc=campaign_folder + os.sep + telefones_bloqueados..txt\ndst=backup_folder + os.sep + telefones_bloqueados_2021-01-17 00:23:19.205804..txt\nsrc=campaign_folder + os.sep + telefones_para_envio..txt\ndst=backup_folder + os.sep + telefones_para_envio_2021-01-17 00:23:19.205804..txt\n"
     ]
    }
   ],
   "source": [
    "backup_campaign()"
   ]
  },
  {
   "cell_type": "code",
   "execution_count": null,
   "metadata": {},
   "outputs": [],
   "source": []
  }
 ]
}